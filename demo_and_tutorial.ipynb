{
 "cells": [
  {
   "metadata": {},
   "cell_type": "markdown",
   "source": [
    "# 📚 GitManager — Интерактивное руководство\n",
    "\n",
    "## 🗂 Содержание\n",
    "1. [Описание программы](#1-описание-программы)\n",
    "2. [Архитектура (из ARCHITECTURE.md)](#2-архитектура)\n",
    "3. [Функционал](#3-функционал)\n",
    "4. [Запуск .venv](#4-запуск-venv)\n",
    "5. [Запуск GUI из Jupyter](#5-запуск-gui-из-jupyter)\n",
    "6. [Тесты](#6-тесты)\n",
    "7. [Скриншоты](#7-скриншоты)"
   ],
   "id": "f4667cc2fb1feed8"
  },
  {
   "metadata": {},
   "cell_type": "markdown",
   "source": [
    "## 1. Описание программы\n",
    "\n",
    "**GitManager** — PyQt6-приложение для управления Git без терминала.\n",
    "\n",
    "- Цель: упростить начало работы с Git\n",
    "- Аудитория: новички, преподаватели, автоматизаторы\n",
    "- Особенности:\n",
    "  - Инициализация репозитория\n",
    "  - Коммит и push с GUI\n",
    "  - Централизованное логирование\n",
    "  - Сохранение конфигурации"
   ],
   "id": "bf0112baf7a306c9"
  },
  {
   "metadata": {
    "jupyter": {
     "is_executing": true
    }
   },
   "cell_type": "code",
   "source": [
    "# Чтение и отображение ARCHITECTURE.md\n",
    "from IPython.display import Markdown, display\n",
    "from pathlib import Path\n",
    "\n",
    "arch_path = Path(\"docs/diagrams\") / \"ARCHITECTURE.md\"\n",
    "if arch_path.exists():\n",
    "    content = arch_path.read_text(encoding='utf-8')\n",
    "    display(Markdown(content))\n",
    "else:\n",
    "    print(\"❌ Файл ARCHITECTURE.md не найден. Убедитесь, что он в docs/\")"
   ],
   "id": "5bd6f679a5fa957d",
   "outputs": [],
   "execution_count": null
  },
  {
   "metadata": {
    "ExecuteTime": {
     "end_time": "2025-08-21T17:23:33.419345Z",
     "start_time": "2025-08-21T17:23:33.414344Z"
    }
   },
   "cell_type": "code",
   "source": [
    "# Отображение CHANGELOG.md\n",
    "from pathlib import Path\n",
    "from IPython.display import Markdown, display\n",
    "\n",
    "changelog_path = Path(\"docs/releases\") / \"CHANGELOG.md\"\n",
    "if changelog_path.exists():\n",
    "    content = changelog_path.read_text(encoding='utf-8')\n",
    "    display(Markdown(content))\n",
    "else:\n",
    "    print(\"❌ CHANGELOG.md не найден\")"
   ],
   "id": "3011dc94af2ed041",
   "outputs": [
    {
     "data": {
      "text/plain": [
       "<IPython.core.display.Markdown object>"
      ],
      "text/markdown": "# 📜 История изменений: GitManager\n\n## [v0.2] — 2025-08-20\n### 🚀 Основные улучшения\n- Добавлена **инициализация репозитория с привязкой к удалённому URL**\n- Реализован **автосохранённый конфиг** (`config/user_config.json`)\n- Добавлена **поддержка привязки к GitHub через ввод ссылки**\n- Внедрено **централизованное логирование** через `utils/logger.py`\n- Логи пишутся в `logs/system.log` с ротацией (до 5 файлов по 10 МБ)\n\n### 🛠 Архитектурные изменения\n- Проект разделён на уровни:\n  - `core/` — логика и управление Git\n  - `commands/` — чистые команды\n  - `gui/` — интерфейс\n  - `utils/` — общие инструменты\n- Вместо дублирующих функций — использован `utils/file_handler.FileHandler`\n- Реализован `ProjectManager` — единая точка управления репозиторием\n\n### 🏗️ Архитектурные улучшения\n- **Логгер инициализируется в одном месте (`app.py`) и передаётся по цепочке** — устранено дублирование и гарантируется согласованность\n- Удалена прямая инициализация `get_logger()` в модулях — теперь все компоненты используют единый экземпляр\n- Версия приложения (`v0.2`) вшита в логи через параметр, а не через формат\n\n### 🐛 Исправлено\n- Исправлено **появление консоли при коммите** (через `startupinfo`)\n- Добавлена фильтрация игнорируемых файлов (например, `__pycache__/`, `.pyc`)\n- Исправлено **неправильное отображение новых файлов** (`??` в `git status`)\n- Добавлен `git pull` перед `push` для предотвращения `rejected`\n\n### 🧩 Новые возможности\n- При запуске **автозаполняется последний URL репозитория**\n- Все ошибки и действия логируются с уровнями: `INFO`, `WARNING`, `ERROR`\n- Поддержка `--windowed` в `.exe` без всплывающей консоли\n- Готов к сборке в один `.exe` через PyInstaller\n\n---\n\n## [v0.1] — 2025-08-15\n### 🌱 Первый релиз\n- Создан GUI для управления Git\n- Поддержка:\n  - `git init`\n  - `git add`\n  - `git commit`\n  - `git push`\n- Визуализация изменённых файлов\n- Ввод сообщения коммита\n- Простой интерфейс с вкладками\n\n> ⚠️ На этом этапе:\n> - Не было логирования\n> - Не было сохранения настроек\n> - Были проблемы с `--windowed`\n> - Не было поддержки `git pull`\n> - Не было фильтрации `.gitignore`\n\n---\n\n## 📌 План на v0.3\n- Поддержка веток (`git checkout`, `git branch`)\n- Интеграция с `git stash`\n"
     },
     "metadata": {},
     "output_type": "display_data"
    }
   ],
   "execution_count": 7
  },
  {
   "metadata": {
    "ExecuteTime": {
     "end_time": "2025-08-21T17:46:57.419901Z",
     "start_time": "2025-08-21T17:46:57.416771Z"
    }
   },
   "cell_type": "code",
   "source": [
    "# Запуск Jupyter\n",
    "import sys\n",
    "import os\n",
    "from pathlib import Path\n",
    "from IPython.display import Markdown, display\n",
    "\n",
    "# 1. Активция .venv\n",
    "venv_python = Path('.venv') / 'Scripts' / 'python.exe'\n",
    "if not venv_python.exists():\n",
    "    raise FileNotFoundError(\"Не найден .venv\")\n",
    "\n",
    "# 2. Добавляем путь к docs/\n",
    "docs_path = Path(\"docs\")\n",
    "sys.path.append(str(docs_path))\n",
    "\n",
    "# 3. Отображение файла\n",
    "arch_path = docs_path / \"diagrams\" / \"ARCHITECTURE.md\"\n",
    "if arch_path.exists():\n",
    "    with open(arch_path, 'r', encoding='utf-8') as f:\n",
    "        content = f.read()\n",
    "    display(Markdown(content))\n",
    "else:\n",
    "    print(\"❌ Файл ARCHITECTURE.md не найден\")"
   ],
   "id": "adea1cd9f7040f34",
   "outputs": [],
   "execution_count": 4
  },
  {
   "metadata": {
    "ExecuteTime": {
     "end_time": "2025-08-21T17:43:47.637452Z",
     "start_time": "2025-08-21T17:43:43.131151Z"
    }
   },
   "cell_type": "code",
   "source": [
    "# Запуск GitManager\n",
    "import sys\n",
    "import os\n",
    "sys.path.append(os.getcwd())\n",
    "\n",
    "from PyQt6.QtWidgets import QApplication\n",
    "from GUI import MainWindow\n",
    "from utils import get_logger\n",
    "\n",
    "# Только если QApplication ещё не запущен\n",
    "app = QApplication.instance()\n",
    "if app is None:\n",
    "    app = QApplication([])\n",
    "\n",
    "logger = get_logger(\"Jupyter_tests\")\n",
    "window = MainWindow(logger=logger)\n",
    "window.show()\n",
    "\n",
    "# Чтобы не блокировать ячейку\n",
    "print(\"✅ Окно запущено. Не закрывай этот блок, пока используешь GUI.\")\n",
    "app.exec() "
   ],
   "id": "5d0bf204e3cd3d62",
   "outputs": [
    {
     "name": "stdout",
     "output_type": "stream",
     "text": [
      "D:\\проекты\\доппроекты\\GitPoster\\GUI\\Icons\\Icon.ico\n",
      "✅ Окно запущено. Не закрывай этот блок, пока используешь GUI.\n"
     ]
    },
    {
     "data": {
      "text/plain": [
       "0"
      ]
     },
     "execution_count": 1,
     "metadata": {},
     "output_type": "execute_result"
    }
   ],
   "execution_count": 1
  },
  {
   "metadata": {
    "ExecuteTime": {
     "end_time": "2025-08-21T17:44:37.362167Z",
     "start_time": "2025-08-21T17:44:36.701148Z"
    }
   },
   "cell_type": "code",
   "source": [
    "# Запуск pytest и вывод результата\n",
    "import subprocess\n",
    "import sys\n",
    "\n",
    "result = subprocess.run(\n",
    "    [sys.executable, \"-m\", \"pytest\", \"tests/unit/\"],\n",
    "    capture_output=True,\n",
    "    text=True,\n",
    "    encoding='utf-8'\n",
    ")\n",
    "\n",
    "print(\"🧪 Результаты тестов:\\n\")\n",
    "print(result.stdout)\n",
    "if result.stderr:\n",
    "    print(\"❌ Ошибки:\\n\", result.stderr)\n",
    "if result.returncode == 0:\n",
    "    print(\"✅ Все тесты прошли\")\n",
    "else:\n",
    "    print(\"❌ Тесты провалены\")"
   ],
   "id": "631aa9483b0030c5",
   "outputs": [
    {
     "name": "stderr",
     "output_type": "stream",
     "text": [
      "Exception in thread Thread-5 (_readerthread):\n",
      "Traceback (most recent call last):\n",
      "  File \"C:\\Users\\TanokDeDa\\AppData\\Local\\Programs\\Python\\Python312\\Lib\\threading.py\", line 1052, in _bootstrap_inner\n",
      "    self.run()\n",
      "  File \"C:\\Users\\TanokDeDa\\AppData\\Local\\Programs\\Python\\Python312\\Lib\\threading.py\", line 989, in run\n",
      "    self._target(*self._args, **self._kwargs)\n",
      "  File \"C:\\Users\\TanokDeDa\\AppData\\Local\\Programs\\Python\\Python312\\Lib\\subprocess.py\", line 1597, in _readerthread\n",
      "    buffer.append(fh.read())\n",
      "                  ^^^^^^^^^\n",
      "  File \"<frozen codecs>\", line 322, in decode\n",
      "UnicodeDecodeError: 'utf-8' codec can't decode byte 0xef in position 162: invalid continuation byte\n"
     ]
    },
    {
     "name": "stdout",
     "output_type": "stream",
     "text": [
      "🧪 Результаты тестов:\n",
      "\n",
      "None\n",
      "✅ Все тесты прошли\n"
     ]
    }
   ],
   "execution_count": 2
  },
  {
   "metadata": {},
   "cell_type": "markdown",
   "source": [
    "## 7. Скриншоты\n",
    "\n",
    "### Главное окно\n",
    "![](docs/screenshots/image.png)\n",
    "\n",
    "### Вкладка инициализации\n",
    "![](docs/screenshots/init_tab.png)\n",
    "\n",
    "### Логи\n",
    "![](docs/screenshots/logs.png)"
   ],
   "id": "41bd29c4fec97c0b"
  },
  {
   "metadata": {
    "ExecuteTime": {
     "end_time": "2025-08-21T17:21:09.100372Z",
     "start_time": "2025-08-21T17:21:09.095550Z"
    }
   },
   "cell_type": "code",
   "source": [
    "# Полезные shell-команды\n",
    "print(\"🔧 Полезные команды:\")\n",
    "print(\"1. Создать .venv: python -m venv .venv\")\n",
    "print(\"2. Активировать: .venv\\\\Scripts\\\\activate\")\n",
    "print(\"3. Установить зависимости: pip install -r requirements.txt\")\n",
    "print(\"4. Собрать .exe: pyinstaller --onefile --windowed --icon=assets/icon.ico main.py\")"
   ],
   "id": "2a08da898d7e712b",
   "outputs": [
    {
     "name": "stdout",
     "output_type": "stream",
     "text": [
      "🔧 Полезные команды:\n",
      "1. Создать .venv: python -m venv .venv\n",
      "2. Активировать: .venv\\Scripts\\activate\n",
      "3. Установить зависимости: pip install -r requirements.txt\n",
      "4. Собрать .exe: pyinstaller --onefile --windowed --icon=assets/icon.ico main.py\n"
     ]
    }
   ],
   "execution_count": 4
  }
 ],
 "metadata": {
  "kernelspec": {
   "display_name": "Python 3 (ipykernel)",
   "language": "python",
   "name": "python3"
  },
  "language_info": {
   "codemirror_mode": {
    "name": "ipython",
    "version": 2
   },
   "file_extension": ".py",
   "mimetype": "text/x-python",
   "name": "python",
   "nbconvert_exporter": "python",
   "pygments_lexer": "ipython2",
   "version": "2.7.6"
  }
 },
 "nbformat": 4,
 "nbformat_minor": 5
}
